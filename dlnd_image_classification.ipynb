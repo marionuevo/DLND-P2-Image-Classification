{
 "cells": [
  {
   "cell_type": "markdown",
   "metadata": {
    "collapsed": true,
    "deletable": true,
    "editable": true
   },
   "source": [
    "# Image Classification\n",
    "In this project, you'll classify images from the [CIFAR-10 dataset](https://www.cs.toronto.edu/~kriz/cifar.html).  The dataset consists of airplanes, dogs, cats, and other objects. You'll preprocess the images, then train a convolutional neural network on all the samples. The images need to be normalized and the labels need to be one-hot encoded.  You'll get to apply what you learned and build a convolutional, max pooling, dropout, and fully connected layers.  At the end, you'll get to see your neural network's predictions on the sample images.\n",
    "## Get the Data\n",
    "Run the following cell to download the [CIFAR-10 dataset for python](https://www.cs.toronto.edu/~kriz/cifar-10-python.tar.gz)."
   ]
  },
  {
   "cell_type": "code",
   "execution_count": 1,
   "metadata": {
    "collapsed": false,
    "deletable": true,
    "editable": true
   },
   "outputs": [
    {
     "name": "stdout",
     "output_type": "stream",
     "text": [
      "All files found!\n"
     ]
    }
   ],
   "source": [
    "\"\"\"\n",
    "DON'T MODIFY ANYTHING IN THIS CELL THAT IS BELOW THIS LINE\n",
    "\"\"\"\n",
    "from urllib.request import urlretrieve\n",
    "from os.path import isfile, isdir\n",
    "from tqdm import tqdm\n",
    "import problem_unittests as tests\n",
    "import tarfile\n",
    "\n",
    "cifar10_dataset_folder_path = 'cifar-10-batches-py'\n",
    "\n",
    "class DLProgress(tqdm):\n",
    "    last_block = 0\n",
    "\n",
    "    def hook(self, block_num=1, block_size=1, total_size=None):\n",
    "        self.total = total_size\n",
    "        self.update((block_num - self.last_block) * block_size)\n",
    "        self.last_block = block_num\n",
    "\n",
    "if not isfile('cifar-10-python.tar.gz'):\n",
    "    with DLProgress(unit='B', unit_scale=True, miniters=1, desc='CIFAR-10 Dataset') as pbar:\n",
    "        urlretrieve(\n",
    "            'https://www.cs.toronto.edu/~kriz/cifar-10-python.tar.gz',\n",
    "            'cifar-10-python.tar.gz',\n",
    "            pbar.hook)\n",
    "\n",
    "if not isdir(cifar10_dataset_folder_path):\n",
    "    with tarfile.open('cifar-10-python.tar.gz') as tar:\n",
    "        tar.extractall()\n",
    "        tar.close()\n",
    "\n",
    "\n",
    "tests.test_folder_path(cifar10_dataset_folder_path)"
   ]
  },
  {
   "cell_type": "markdown",
   "metadata": {
    "deletable": true,
    "editable": true
   },
   "source": [
    "## Explore the Data\n",
    "The dataset is broken into batches to prevent your machine from running out of memory.  The CIFAR-10 dataset consists of 5 batches, named `data_batch_1`, `data_batch_2`, etc.. Each batch contains the labels and images that are one of the following:\n",
    "* airplane\n",
    "* automobile\n",
    "* bird\n",
    "* cat\n",
    "* deer\n",
    "* dog\n",
    "* frog\n",
    "* horse\n",
    "* ship\n",
    "* truck\n",
    "\n",
    "Understanding a dataset is part of making predictions on the data.  Play around with the code cell below by changing the `batch_id` and `sample_id`. The `batch_id` is the id for a batch (1-5). The `sample_id` is the id for a image and label pair in the batch.\n",
    "\n",
    "Ask yourself \"What are all possible labels?\", \"What is the range of values for the image data?\", \"Are the labels in order or random?\".  Answers to questions like these will help you preprocess the data and end up with better predictions."
   ]
  },
  {
   "cell_type": "code",
   "execution_count": 2,
   "metadata": {
    "collapsed": false,
    "deletable": true,
    "editable": true
   },
   "outputs": [
    {
     "name": "stdout",
     "output_type": "stream",
     "text": [
      "\n",
      "Stats of batch 1:\n",
      "Samples: 10000\n",
      "Label Counts: {0: 1005, 1: 974, 2: 1032, 3: 1016, 4: 999, 5: 937, 6: 1030, 7: 1001, 8: 1025, 9: 981}\n",
      "First 20 Labels: [6, 9, 9, 4, 1, 1, 2, 7, 8, 3, 4, 7, 7, 2, 9, 9, 9, 3, 2, 6]\n",
      "\n",
      "Example of Image 2:\n",
      "Image - Min Value: 20 Max Value: 255\n",
      "Image - Shape: (32, 32, 3)\n",
      "Label - Label Id: 9 Name: truck\n"
     ]
    },
    {
     "data": {
      "image/png": "[encoded data removed]",
      "text/plain": [
       "<matplotlib.figure.Figure at 0x7f9ee30b0c18>"
      ]
     },
     "metadata": {
      "image/png": {
       "height": 250,
       "width": 253
      }
     },
     "output_type": "display_data"
    }
   ],
   "source": [
    "%matplotlib inline\n",
    "%config InlineBackend.figure_format = 'retina'\n",
    "\n",
    "import helper\n",
    "import numpy as np\n",
    "\n",
    "# Explore the dataset\n",
    "batch_id = 1\n",
    "sample_id = 2\n",
    "helper.display_stats(cifar10_dataset_folder_path, batch_id, sample_id)"
   ]
  },
  {
   "cell_type": "markdown",
   "metadata": {
    "deletable": true,
    "editable": true
   },
   "source": [
    "## Implement Preprocess Functions\n",
    "### Normalize\n",
    "In the cell below, implement the `normalize` function to take in image data, `x`, and return it as a normalized Numpy array. The values should be in the range of 0 to 1, inclusive.  The return object should be the same shape as `x`."
   ]
  },
  {
   "cell_type": "code",
   "execution_count": 3,
   "metadata": {
    "collapsed": false,
    "deletable": true,
    "editable": true
   },
   "outputs": [
    {
     "name": "stdout",
     "output_type": "stream",
     "text": [
      "Tests Passed\n"
     ]
    }
   ],
   "source": [
    "def normalize(x):\n",
    "    \"\"\"\n",
    "    Normalize a list of sample image data in the range of 0 to 1\n",
    "    : x: List of image data.  The image shape is (32, 32, 3)\n",
    "    : return: Numpy array of normalize data\n",
    "    \"\"\"\n",
    "    # DONE: Implement Function\n",
    "    a = 0.0\n",
    "    b = 1.0\n",
    "    grayscale_min = 0\n",
    "    grayscale_max = 255\n",
    "    return a + ( ( (x - grayscale_min)*(b - a) )/( grayscale_max - grayscale_min ) )\n",
    "\n",
    "\n",
    "\"\"\"\n",
    "DON'T MODIFY ANYTHING IN THIS CELL THAT IS BELOW THIS LINE\n",
    "\"\"\"\n",
    "tests.test_normalize(normalize)"
   ]
  },
  {
   "cell_type": "markdown",
   "metadata": {
    "deletable": true,
    "editable": true
   },
   "source": [
    "### One-hot encode\n",
    "Just like the previous code cell, you'll be implementing a function for preprocessing.  This time, you'll implement the `one_hot_encode` function. The input, `x`, are a list of labels.  Implement the function to return the list of labels as One-Hot encoded Numpy array.  The possible values for labels are 0 to 9. The one-hot encoding function should return the same encoding for each value between each call to `one_hot_encode`.  Make sure to save the map of encodings outside the function.\n",
    "\n",
    "Hint: Don't reinvent the wheel."
   ]
  },
  {
   "cell_type": "code",
   "execution_count": 4,
   "metadata": {
    "collapsed": false,
    "deletable": true,
    "editable": true
   },
   "outputs": [
    {
     "data": {
      "text/plain": [
       "LabelBinarizer(neg_label=0, pos_label=1, sparse_output=False)"
      ]
     },
     "execution_count": 4,
     "metadata": {},
     "output_type": "execute_result"
    }
   ],
   "source": [
    "from sklearn import preprocessing\n",
    "\n",
    "# Create the encoder\n",
    "lb = preprocessing.LabelBinarizer()\n",
    "\n",
    "# Here the encoder finds the classes and assigns one-hot vectors \n",
    "lb.fit([0,1,2,3,4,5,6,7,8,9])"
   ]
  },
  {
   "cell_type": "code",
   "execution_count": 5,
   "metadata": {
    "collapsed": false,
    "deletable": true,
    "editable": true
   },
   "outputs": [
    {
     "name": "stdout",
     "output_type": "stream",
     "text": [
      "Tests Passed\n"
     ]
    }
   ],
   "source": [
    "def one_hot_encode(x):\n",
    "    \"\"\"\n",
    "    One hot encode a list of sample labels. Return a one-hot encoded vector for each label.\n",
    "    : x: List of sample Labels\n",
    "    : return: Numpy array of one-hot encoded labels\n",
    "    \"\"\"\n",
    "    # DONE: Implement Function\n",
    "    # Transform the labels into one-hot encoded vectors\n",
    "    return lb.transform(x)\n",
    "\n",
    "\n",
    "\"\"\"\n",
    "DON'T MODIFY ANYTHING IN THIS CELL THAT IS BELOW THIS LINE\n",
    "\"\"\"\n",
    "tests.test_one_hot_encode(one_hot_encode)"
   ]
  },
  {
   "cell_type": "markdown",
   "metadata": {
    "deletable": true,
    "editable": true
   },
   "source": [
    "### Randomize Data\n",
    "As you saw from exploring the data above, the order of the samples are randomized.  It doesn't hurt to randomize it again, but you don't need to for this dataset."
   ]
  },
  {
   "cell_type": "markdown",
   "metadata": {
    "deletable": true,
    "editable": true
   },
   "source": [
    "## Preprocess all the data and save it\n",
    "Running the code cell below will preprocess all the CIFAR-10 data and save it to file. The code below also uses 10% of the training data for validation."
   ]
  },
  {
   "cell_type": "code",
   "execution_count": 6,
   "metadata": {
    "collapsed": false,
    "deletable": true,
    "editable": true
   },
   "outputs": [],
   "source": [
    "\"\"\"\n",
    "DON'T MODIFY ANYTHING IN THIS CELL\n",
    "\"\"\"\n",
    "# Preprocess Training, Validation, and Testing Data\n",
    "helper.preprocess_and_save_data(cifar10_dataset_folder_path, normalize, one_hot_encode)"
   ]
  },
  {
   "cell_type": "markdown",
   "metadata": {
    "deletable": true,
    "editable": true
   },
   "source": [
    "# Check Point\n",
    "This is your first checkpoint.  If you ever decide to come back to this notebook or have to restart the notebook, you can start from here.  The preprocessed data has been saved to disk."
   ]
  },
  {
   "cell_type": "code",
   "execution_count": 7,
   "metadata": {
    "collapsed": false,
    "deletable": true,
    "editable": true
   },
   "outputs": [],
   "source": [
    "\"\"\"\n",
    "DON'T MODIFY ANYTHING IN THIS CELL\n",
    "\"\"\"\n",
    "import pickle\n",
    "import problem_unittests as tests\n",
    "import helper\n",
    "\n",
    "# Load the Preprocessed Validation data\n",
    "valid_features, valid_labels = pickle.load(open('preprocess_validation.p', mode='rb'))"
   ]
  },
  {
   "cell_type": "markdown",
   "metadata": {
    "deletable": true,
    "editable": true
   },
   "source": [
    "## Build the network\n",
    "For the neural network, you'll build each layer into a function.  Most of the code you've seen has been outside of functions. To test your code more thoroughly, we require that you put each layer in a function.  This allows us to give you better feedback and test for simple mistakes using our unittests before you submit your project.\n",
    "\n",
    "If you're finding it hard to dedicate enough time for this course a week, we've provided a small shortcut to this part of the project. In the next couple of problems, you'll have the option to use [TensorFlow Layers](https://www.tensorflow.org/api_docs/python/tf/layers) or [TensorFlow Layers (contrib)](https://www.tensorflow.org/api_guides/python/contrib.layers) to build each layer, except \"Convolutional & Max Pooling\" layer.  TF Layers is similar to Keras's and TFLearn's abstraction to layers, so it's easy to pickup.\n",
    "\n",
    "If you would like to get the most of this course, try to solve all the problems without TF Layers.  Let's begin!\n",
    "### Input\n",
    "The neural network needs to read the image data, one-hot encoded labels, and dropout keep probability. Implement the following functions\n",
    "* Implement `neural_net_image_input`\n",
    " * Return a [TF Placeholder](https://www.tensorflow.org/api_docs/python/tf/placeholder)\n",
    " * Set the shape using `image_shape` with batch size set to `None`.\n",
    " * Name the TensorFlow placeholder \"x\" using the TensorFlow `name` parameter in the [TF Placeholder](https://www.tensorflow.org/api_docs/python/tf/placeholder).\n",
    "* Implement `neural_net_label_input`\n",
    " * Return a [TF Placeholder](https://www.tensorflow.org/api_docs/python/tf/placeholder)\n",
    " * Set the shape using `n_classes` with batch size set to `None`.\n",
    " * Name the TensorFlow placeholder \"y\" using the TensorFlow `name` parameter in the [TF Placeholder](https://www.tensorflow.org/api_docs/python/tf/placeholder).\n",
    "* Implement `neural_net_keep_prob_input`\n",
    " * Return a [TF Placeholder](https://www.tensorflow.org/api_docs/python/tf/placeholder) for dropout keep probability.\n",
    " * Name the TensorFlow placeholder \"keep_prob\" using the TensorFlow `name` parameter in the [TF Placeholder](https://www.tensorflow.org/api_docs/python/tf/placeholder).\n",
    "\n",
    "These names will be used at the end of the project to load your saved model.\n",
    "\n",
    "Note: `None` for shapes in TensorFlow allow for a dynamic size."
   ]
  },
  {
   "cell_type": "code",
   "execution_count": 8,
   "metadata": {
    "collapsed": false,
    "deletable": true,
    "editable": true
   },
   "outputs": [
    {
     "name": "stdout",
     "output_type": "stream",
     "text": [
      "Image Input Tests Passed.\n",
      "Label Input Tests Passed.\n",
      "Keep Prob Tests Passed.\n"
     ]
    }
   ],
   "source": [
    "import tensorflow as tf\n",
    "\n",
    "def neural_net_image_input(image_shape):\n",
    "    \"\"\"\n",
    "    Return a Tensor for a bach of image input\n",
    "    : image_shape: Shape of the images\n",
    "    : return: Tensor for image input.\n",
    "    \"\"\"\n",
    "    # DONE: Implement Function\n",
    "    return tf.placeholder(tf.float32, shape=[None, image_shape[0], image_shape[1], image_shape[2]], name='x')\n",
    "\n",
    "\n",
    "def neural_net_label_input(n_classes):\n",
    "    \"\"\"\n",
    "    Return a Tensor for a batch of label input\n",
    "    : n_classes: Number of classes\n",
    "    : return: Tensor for label input.\n",
    "    \"\"\"\n",
    "    # DONE: Implement Function\n",
    "    return tf.placeholder(tf.float32, shape=[None, n_classes], name='y')\n",
    "\n",
    "\n",
    "def neural_net_keep_prob_input():\n",
    "    \"\"\"\n",
    "    Return a Tensor for keep probability\n",
    "    : return: Tensor for keep probability.\n",
    "    \"\"\"\n",
    "    # DONE: Implement Function\n",
    "    return tf.placeholder(tf.float32, name='keep_prob')\n",
    "\n",
    "\n",
    "\"\"\"\n",
    "DON'T MODIFY ANYTHING IN THIS CELL THAT IS BELOW THIS LINE\n",
    "\"\"\"\n",
    "tf.reset_default_graph()\n",
    "tests.test_nn_image_inputs(neural_net_image_input)\n",
    "tests.test_nn_label_inputs(neural_net_label_input)\n",
    "tests.test_nn_keep_prob_inputs(neural_net_keep_prob_input)"
   ]
  },
  {
   "cell_type": "markdown",
   "metadata": {
    "deletable": true,
    "editable": true
   },
   "source": [
    "### Convolution and Max Pooling Layer\n",
    "Convolution layers have a lot of success with images. For this code cell, you should implement the function `conv2d_maxpool` to apply convolution then max pooling:\n",
    "* Create the weight and bias using `conv_ksize`, `conv_num_outputs` and the shape of `x_tensor`.\n",
    "* Apply a convolution to `x_tensor` using weight and `conv_strides`.\n",
    " * We recommend you use same padding, but you're welcome to use any padding.\n",
    "* Add bias\n",
    "* Add a nonlinear activation to the convolution.\n",
    "* Apply Max Pooling using `pool_ksize` and `pool_strides`.\n",
    " * We recommend you use same padding, but you're welcome to use any padding.\n",
    "\n",
    "Note: You **can't** use [TensorFlow Layers](https://www.tensorflow.org/api_docs/python/tf/layers) or [TensorFlow Layers (contrib)](https://www.tensorflow.org/api_guides/python/contrib.layers) for this layer.  You're free to use any TensorFlow package for all the other layers."
   ]
  },
  {
   "cell_type": "code",
   "execution_count": 9,
   "metadata": {
    "collapsed": false,
    "deletable": true,
    "editable": true,
    "scrolled": false
   },
   "outputs": [
    {
     "name": "stdout",
     "output_type": "stream",
     "text": [
      "Tests Passed\n"
     ]
    }
   ],
   "source": [
    "def conv2d_maxpool(x_tensor, conv_num_outputs, conv_ksize, conv_strides, pool_ksize, pool_strides):\n",
    "    \"\"\"\n",
    "    Apply convolution then max pooling to x_tensor\n",
    "    :param x_tensor: TensorFlow Tensor\n",
    "    :param conv_num_outputs: Number of outputs for the convolutional layer\n",
    "    :param conv_strides: Stride 2-D Tuple for convolution\n",
    "    :param pool_ksize: kernal size 2-D Tuple for pool\n",
    "    :param pool_strides: Stride 2-D Tuple for pool\n",
    "    : return: A tensor that represents convolution and max pooling of x_tensor\n",
    "    \"\"\"\n",
    "    # DONE: Implement Function\n",
    "\n",
    "    color_channels = x_tensor.get_shape().as_list()[3]\n",
    "    conv_k_size_x = conv_ksize[0]\n",
    "    conv_k_size_y = conv_ksize[1]\n",
    "    \n",
    "    # Weights and bias\n",
    "    W = tf.Variable(tf.truncated_normal([conv_k_size_y, conv_k_size_x, color_channels, conv_num_outputs], stddev=0.05))\n",
    "    b = tf.Variable(tf.zeros(conv_num_outputs))\n",
    "    \n",
    "    # strides\n",
    "    c_strides = [1, conv_strides[0], conv_strides[1], 1]\n",
    "    p_strides = [1, pool_strides[0], pool_strides[1], 1]\n",
    "    \n",
    "    # kernel sizes\n",
    "    pool_k_size_x = pool_ksize[0]\n",
    "    pool_k_size_y = pool_ksize[1]\n",
    "    p_k_size = [1, pool_k_size_x, pool_k_size_y, 1]\n",
    "    \n",
    "    padding = 'SAME'\n",
    "    \n",
    "    # convolution\n",
    "    conv = tf.nn.conv2d(x_tensor, W, c_strides, padding)\n",
    "    \n",
    "    # add bias\n",
    "    conv = tf.nn.bias_add(conv, b)\n",
    "    \n",
    "    # non linear activation\n",
    "    conv = tf.nn.relu(conv)\n",
    "    \n",
    "    return tf.nn.max_pool(conv, p_k_size, p_strides, padding)\n",
    "\n",
    "\n",
    "\"\"\"\n",
    "DON'T MODIFY ANYTHING IN THIS CELL THAT IS BELOW THIS LINE\n",
    "\"\"\"\n",
    "tests.test_con_pool(conv2d_maxpool)"
   ]
  },
  {
   "cell_type": "markdown",
   "metadata": {
    "deletable": true,
    "editable": true
   },
   "source": [
    "### Flatten Layer\n",
    "Implement the `flatten` function to change the dimension of `x_tensor` from a 4-D tensor to a 2-D tensor.  The output should be the shape (*Batch Size*, *Flattened Image Size*). You can use [TensorFlow Layers](https://www.tensorflow.org/api_docs/python/tf/layers) or [TensorFlow Layers (contrib)](https://www.tensorflow.org/api_guides/python/contrib.layers) for this layer."
   ]
  },
  {
   "cell_type": "code",
   "execution_count": 10,
   "metadata": {
    "collapsed": false,
    "deletable": true,
    "editable": true
   },
   "outputs": [
    {
     "name": "stdout",
     "output_type": "stream",
     "text": [
      "Tests Passed\n"
     ]
    }
   ],
   "source": [
    "def flatten(x_tensor):\n",
    "    \"\"\"\n",
    "    Flatten x_tensor to (Batch Size, Flattened Image Size)\n",
    "    : x_tensor: A tensor of size (Batch Size, ...), where ... are the image dimensions.\n",
    "    : return: A tensor of size (Batch Size, Flattened Image Size).\n",
    "    \"\"\"\n",
    "    # DONE: Implement Function\n",
    "    tensor_shape = x_tensor.get_shape().as_list()\n",
    "    batch_size = tf.shape(x_tensor)[0]\n",
    "    flat_size = tensor_shape[1] * tensor_shape[2] * tensor_shape[3]\n",
    "    return tf.reshape(x_tensor, [batch_size, flat_size])\n",
    "\n",
    "\n",
    "\"\"\"\n",
    "DON'T MODIFY ANYTHING IN THIS CELL THAT IS BELOW THIS LINE\n",
    "\"\"\"\n",
    "tests.test_flatten(flatten)"
   ]
  },
  {
   "cell_type": "markdown",
   "metadata": {
    "deletable": true,
    "editable": true
   },
   "source": [
    "### Fully-Connected Layer\n",
    "Implement the `fully_conn` function to apply a fully connected layer to `x_tensor` with the shape (*Batch Size*, *num_outputs*). You can use [TensorFlow Layers](https://www.tensorflow.org/api_docs/python/tf/layers) or [TensorFlow Layers (contrib)](https://www.tensorflow.org/api_guides/python/contrib.layers) for this layer."
   ]
  },
  {
   "cell_type": "code",
   "execution_count": 11,
   "metadata": {
    "collapsed": false,
    "deletable": true,
    "editable": true
   },
   "outputs": [
    {
     "name": "stdout",
     "output_type": "stream",
     "text": [
      "Tests Passed\n"
     ]
    }
   ],
   "source": [
    "def fully_conn(x_tensor, num_outputs):\n",
    "    \"\"\"\n",
    "    Apply a fully connected layer to x_tensor using weight and bias\n",
    "    : x_tensor: A 2-D tensor where the first dimension is batch size.\n",
    "    : num_outputs: The number of output that the new tensor should be.\n",
    "    : return: A 2-D tensor where the second dimension is num_outputs.\n",
    "    \"\"\"\n",
    "    # DONE: Implement Function\n",
    "    return tf.contrib.layers.fully_connected(x_tensor, num_outputs, activation_fn=tf.nn.relu)\n",
    "\n",
    "\n",
    "\"\"\"\n",
    "DON'T MODIFY ANYTHING IN THIS CELL THAT IS BELOW THIS LINE\n",
    "\"\"\"\n",
    "tests.test_fully_conn(fully_conn)"
   ]
  },
  {
   "cell_type": "markdown",
   "metadata": {
    "deletable": true,
    "editable": true
   },
   "source": [
    "### Output Layer\n",
    "Implement the `output` function to apply a fully connected layer to `x_tensor` with the shape (*Batch Size*, *num_outputs*). You can use [TensorFlow Layers](https://www.tensorflow.org/api_docs/python/tf/layers) or [TensorFlow Layers (contrib)](https://www.tensorflow.org/api_guides/python/contrib.layers) for this layer.\n",
    "\n",
    "Note: Activation, softmax, or cross entropy shouldn't be applied to this."
   ]
  },
  {
   "cell_type": "code",
   "execution_count": 12,
   "metadata": {
    "collapsed": false,
    "deletable": true,
    "editable": true
   },
   "outputs": [
    {
     "name": "stdout",
     "output_type": "stream",
     "text": [
      "Tests Passed\n"
     ]
    }
   ],
   "source": [
    "def output(x_tensor, num_outputs):\n",
    "    \"\"\"\n",
    "    Apply a output layer to x_tensor using weight and bias\n",
    "    : x_tensor: A 2-D tensor where the first dimension is batch size.\n",
    "    : num_outputs: The number of output that the new tensor should be.\n",
    "    : return: A 2-D tensor where the second dimension is num_outputs.\n",
    "    \"\"\"\n",
    "    # DONE: Implement Function\n",
    "    return tf.contrib.layers.fully_connected(x_tensor, num_outputs)\n",
    "\n",
    "\n",
    "\"\"\"\n",
    "DON'T MODIFY ANYTHING IN THIS CELL THAT IS BELOW THIS LINE\n",
    "\"\"\"\n",
    "tests.test_output(output)"
   ]
  },
  {
   "cell_type": "markdown",
   "metadata": {
    "deletable": true,
    "editable": true
   },
   "source": [
    "### Create Convolutional Model\n",
    "Implement the function `conv_net` to create a convolutional neural network model. The function takes in a batch of images, `x`, and outputs logits.  Use the layers you created above to create this model:\n",
    "\n",
    "* Apply 1, 2, or 3 Convolution and Max Pool layers\n",
    "* Apply a Flatten Layer\n",
    "* Apply 1, 2, or 3 Fully Connected Layers\n",
    "* Apply an Output Layer\n",
    "* Return the output\n",
    "* Apply [TensorFlow's Dropout](https://www.tensorflow.org/api_docs/python/tf/nn/dropout) to one or more layers in the model using `keep_prob`. "
   ]
  },
  {
   "cell_type": "code",
   "execution_count": 13,
   "metadata": {
    "collapsed": false,
    "deletable": true,
    "editable": true
   },
   "outputs": [
    {
     "name": "stdout",
     "output_type": "stream",
     "text": [
      "Neural Network Built!\n"
     ]
    }
   ],
   "source": [
    "def conv_net(x, keep_prob):\n",
    "    \"\"\"\n",
    "    Create a convolutional neural network model\n",
    "    : x: Placeholder tensor that holds image data.\n",
    "    : keep_prob: Placeholder tensor that hold dropout keep probability.\n",
    "    : return: Tensor that represents logits\n",
    "    \"\"\"\n",
    "    # DONE: Apply 1, 2, or 3 Convolution and Max Pool layers\n",
    "    #    Play around with different number of outputs, kernel size and stride\n",
    "    # Function Definition from Above:\n",
    "    #    conv2d_maxpool(x_tensor, conv_num_outputs, conv_ksize, conv_strides, pool_ksize, pool_strides)\n",
    "    \n",
    "    num_outputs = 10\n",
    "    \n",
    "    # tunables\n",
    "    conv_num_outputs = 32\n",
    "    conv_ksize = (5,5)\n",
    "    conv_strides = (2,2)\n",
    "    pool_ksize = (2,2)\n",
    "    pool_strides = (2,2)\n",
    "    \n",
    "    # convolution and maxpool layer 1\n",
    "    x = conv2d_maxpool(x, conv_num_outputs, conv_ksize, conv_strides, pool_ksize, pool_strides)\n",
    "    \n",
    "    # convolution and maxpool layer 2\n",
    "    conv_num_outputs = 64\n",
    "    x = conv2d_maxpool(x, conv_num_outputs, conv_ksize, conv_strides, pool_ksize, pool_strides)\n",
    "\n",
    "    # DONE: Apply a Flatten Layer\n",
    "    # Function Definition from Above:\n",
    "    #   flatten(x_tensor)\n",
    "    x = flatten(x)\n",
    "    \n",
    "\n",
    "    # DONE: Apply 1, 2, or 3 Fully Connected Layers\n",
    "    #    Play around with different number of outputs\n",
    "    # Function Definition from Above:\n",
    "    #   fully_conn(x_tensor, num_outputs)\n",
    "\n",
    "    fully_conn_outputs = 1024\n",
    "    x = fully_conn(x, fully_conn_outputs)\n",
    "    \n",
    "    # dropout\n",
    "    x = tf.contrib.layers.dropout(x, keep_prob)\n",
    "\n",
    "    \n",
    "    # DONE: Apply an Output Layer\n",
    "    #    Set this to the number of classes\n",
    "    # Function Definition from Above:\n",
    "    #   output(x_tensor, num_outputs)\n",
    "    x = output(x, num_outputs)\n",
    "    \n",
    "    # DONE: return output\n",
    "    return x\n",
    "\n",
    "\n",
    "\"\"\"\n",
    "DON'T MODIFY ANYTHING IN THIS CELL THAT IS BELOW THIS LINE\n",
    "\"\"\"\n",
    "\n",
    "##############################\n",
    "## Build the Neural Network ##\n",
    "##############################\n",
    "\n",
    "# Remove previous weights, bias, inputs, etc..\n",
    "tf.reset_default_graph()\n",
    "\n",
    "# Inputs\n",
    "x = neural_net_image_input((32, 32, 3))\n",
    "y = neural_net_label_input(10)\n",
    "keep_prob = neural_net_keep_prob_input()\n",
    "\n",
    "# Model\n",
    "logits = conv_net(x, keep_prob)\n",
    "\n",
    "# Name logits Tensor, so that is can be loaded from disk after training\n",
    "logits = tf.identity(logits, name='logits')\n",
    "\n",
    "# Loss and Optimizer\n",
    "cost = tf.reduce_mean(tf.nn.softmax_cross_entropy_with_logits(logits=logits, labels=y))\n",
    "optimizer = tf.train.AdamOptimizer().minimize(cost)\n",
    "\n",
    "# Accuracy\n",
    "correct_pred = tf.equal(tf.argmax(logits, 1), tf.argmax(y, 1))\n",
    "accuracy = tf.reduce_mean(tf.cast(correct_pred, tf.float32), name='accuracy')\n",
    "\n",
    "tests.test_conv_net(conv_net)"
   ]
  },
  {
   "cell_type": "markdown",
   "metadata": {
    "deletable": true,
    "editable": true
   },
   "source": [
    "## Train the Neural Network\n",
    "### Single Optimization\n",
    "Implement the function `train_neural_network` to do a single optimization.  The optimization should use `optimizer` to optimize in `session` with a `feed_dict` of the following:\n",
    "* `x` for image input\n",
    "* `y` for labels\n",
    "* `keep_prob` for keep probability for dropout\n",
    "\n",
    "This function will be called for each batch, so `tf.global_variables_initializer()` has already been called.\n",
    "\n",
    "Note: Nothing needs to be returned. This function is only optimizing the neural network."
   ]
  },
  {
   "cell_type": "code",
   "execution_count": 14,
   "metadata": {
    "collapsed": false,
    "deletable": true,
    "editable": true
   },
   "outputs": [
    {
     "name": "stdout",
     "output_type": "stream",
     "text": [
      "Tests Passed\n"
     ]
    }
   ],
   "source": [
    "def train_neural_network(session, optimizer, keep_probability, feature_batch, label_batch):\n",
    "    \"\"\"\n",
    "    Optimize the session on a batch of images and labels\n",
    "    : session: Current TensorFlow session\n",
    "    : optimizer: TensorFlow optimizer function\n",
    "    : keep_probability: keep probability\n",
    "    : feature_batch: Batch of Numpy image data\n",
    "    : label_batch: Batch of Numpy label data\n",
    "    \"\"\"\n",
    "    # DONE: Implement Function\n",
    "    session.run(optimizer, feed_dict={x: feature_batch, y: label_batch, keep_prob: keep_probability})\n",
    "\n",
    "\n",
    "\"\"\"\n",
    "DON'T MODIFY ANYTHING IN THIS CELL THAT IS BELOW THIS LINE\n",
    "\"\"\"\n",
    "tests.test_train_nn(train_neural_network)"
   ]
  },
  {
   "cell_type": "markdown",
   "metadata": {
    "deletable": true,
    "editable": true
   },
   "source": [
    "### Show Stats\n",
    "Implement the function `print_stats` to print loss and validation accuracy.  Use the global variables `valid_features` and `valid_labels` to calculate validation accuracy.  Use a keep probability of `1.0` to calculate the loss and validation accuracy."
   ]
  },
  {
   "cell_type": "code",
   "execution_count": 15,
   "metadata": {
    "collapsed": false,
    "deletable": true,
    "editable": true
   },
   "outputs": [],
   "source": [
    "def print_stats(session, feature_batch, label_batch, cost, accuracy):\n",
    "    \"\"\"\n",
    "    Print information about loss and validation accuracy\n",
    "    : session: Current TensorFlow session\n",
    "    : feature_batch: Batch of Numpy image data\n",
    "    : label_batch: Batch of Numpy label data\n",
    "    : cost: TensorFlow cost function\n",
    "    : accuracy: TensorFlow accuracy function\n",
    "    \"\"\"\n",
    "    # DONE: Implement Function\n",
    "    new_cost = session.run(cost, feed_dict={x: feature_batch, y: label_batch, keep_prob: 1.0})\n",
    "    new_accuracy = session.run(accuracy, feed_dict={x: valid_features, y: valid_labels, keep_prob: 1.0})\n",
    "    print('Cost: {:<5.4f}, Accuracy: {:<8.4f}'.format(new_cost, new_accuracy))"
   ]
  },
  {
   "cell_type": "markdown",
   "metadata": {
    "deletable": true,
    "editable": true
   },
   "source": [
    "### Hyperparameters\n",
    "Tune the following parameters:\n",
    "* Set `epochs` to the number of iterations until the network stops learning or start overfitting\n",
    "* Set `batch_size` to the highest number that your machine has memory for.  Most people set them to common sizes of memory:\n",
    " * 64\n",
    " * 128\n",
    " * 256\n",
    " * ...\n",
    "* Set `keep_probability` to the probability of keeping a node using dropout"
   ]
  },
  {
   "cell_type": "code",
   "execution_count": 16,
   "metadata": {
    "collapsed": true,
    "deletable": true,
    "editable": true
   },
   "outputs": [],
   "source": [
    "# DONE: Tune Parameters\n",
    "epochs = 25\n",
    "batch_size = 512\n",
    "keep_probability = 0.4"
   ]
  },
  {
   "cell_type": "markdown",
   "metadata": {
    "deletable": true,
    "editable": true
   },
   "source": [
    "### Train on a Single CIFAR-10 Batch\n",
    "Instead of training the neural network on all the CIFAR-10 batches of data, let's use a single batch. This should save time while you iterate on the model to get a better accuracy.  Once the final validation accuracy is 50% or greater, run the model on all the data in the next section."
   ]
  },
  {
   "cell_type": "code",
   "execution_count": 17,
   "metadata": {
    "collapsed": false,
    "deletable": true,
    "editable": true
   },
   "outputs": [
    {
     "name": "stdout",
     "output_type": "stream",
     "text": [
      "Checking the Training on a Single Batch...\n",
      "Epoch  1, CIFAR-10 Batch 1:  Cost: 2.1470, Accuracy: 0.2448  \n",
      "Epoch  2, CIFAR-10 Batch 1:  Cost: 1.9622, Accuracy: 0.3338  \n",
      "Epoch  3, CIFAR-10 Batch 1:  Cost: 1.8302, Accuracy: 0.3864  \n",
      "Epoch  4, CIFAR-10 Batch 1:  Cost: 1.7385, Accuracy: 0.3932  \n",
      "Epoch  5, CIFAR-10 Batch 1:  Cost: 1.6652, Accuracy: 0.4202  \n",
      "Epoch  6, CIFAR-10 Batch 1:  Cost: 1.6061, Accuracy: 0.4270  \n",
      "Epoch  7, CIFAR-10 Batch 1:  Cost: 1.5163, Accuracy: 0.4616  \n",
      "Epoch  8, CIFAR-10 Batch 1:  Cost: 1.4496, Accuracy: 0.4806  \n",
      "Epoch  9, CIFAR-10 Batch 1:  Cost: 1.3839, Accuracy: 0.4868  \n",
      "Epoch 10, CIFAR-10 Batch 1:  Cost: 1.3380, Accuracy: 0.4928  \n",
      "Epoch 11, CIFAR-10 Batch 1:  Cost: 1.2890, Accuracy: 0.5038  \n",
      "Epoch 12, CIFAR-10 Batch 1:  Cost: 1.2553, Accuracy: 0.5134  \n",
      "Epoch 13, CIFAR-10 Batch 1:  Cost: 1.2188, Accuracy: 0.5154  \n",
      "Epoch 14, CIFAR-10 Batch 1:  Cost: 1.1774, Accuracy: 0.5214  \n",
      "Epoch 15, CIFAR-10 Batch 1:  Cost: 1.1420, Accuracy: 0.5336  \n",
      "Epoch 16, CIFAR-10 Batch 1:  Cost: 1.1090, Accuracy: 0.5314  \n",
      "Epoch 17, CIFAR-10 Batch 1:  Cost: 1.0741, Accuracy: 0.5406  \n",
      "Epoch 18, CIFAR-10 Batch 1:  Cost: 1.0412, Accuracy: 0.5430  \n",
      "Epoch 19, CIFAR-10 Batch 1:  Cost: 1.0105, Accuracy: 0.5472  \n",
      "Epoch 20, CIFAR-10 Batch 1:  Cost: 0.9837, Accuracy: 0.5546  \n",
      "Epoch 21, CIFAR-10 Batch 1:  Cost: 0.9500, Accuracy: 0.5498  \n",
      "Epoch 22, CIFAR-10 Batch 1:  Cost: 0.9172, Accuracy: 0.5510  \n",
      "Epoch 23, CIFAR-10 Batch 1:  Cost: 0.9032, Accuracy: 0.5550  \n",
      "Epoch 24, CIFAR-10 Batch 1:  Cost: 0.8410, Accuracy: 0.5650  \n",
      "Epoch 25, CIFAR-10 Batch 1:  Cost: 0.8570, Accuracy: 0.5454  \n"
     ]
    }
   ],
   "source": [
    "\"\"\"\n",
    "DON'T MODIFY ANYTHING IN THIS CELL\n",
    "\"\"\"\n",
    "print('Checking the Training on a Single Batch...')\n",
    "with tf.Session() as sess:\n",
    "    # Initializing the variables\n",
    "    sess.run(tf.global_variables_initializer())\n",
    "    \n",
    "    # Training cycle\n",
    "    for epoch in range(epochs):\n",
    "        batch_i = 1\n",
    "        for batch_features, batch_labels in helper.load_preprocess_training_batch(batch_i, batch_size):\n",
    "            train_neural_network(sess, optimizer, keep_probability, batch_features, batch_labels)\n",
    "        print('Epoch {:>2}, CIFAR-10 Batch {}:  '.format(epoch + 1, batch_i), end='')\n",
    "        print_stats(sess, batch_features, batch_labels, cost, accuracy)"
   ]
  },
  {
   "cell_type": "markdown",
   "metadata": {
    "deletable": true,
    "editable": true
   },
   "source": [
    "### Fully Train the Model\n",
    "Now that you got a good accuracy with a single CIFAR-10 batch, try it with all five batches."
   ]
  },
  {
   "cell_type": "code",
   "execution_count": 18,
   "metadata": {
    "collapsed": false,
    "deletable": true,
    "editable": true
   },
   "outputs": [
    {
     "name": "stdout",
     "output_type": "stream",
     "text": [
      "Training...\n",
      "Epoch  1, CIFAR-10 Batch 1:  Cost: 2.1471, Accuracy: 0.2382  \n",
      "Epoch  1, CIFAR-10 Batch 2:  Cost: 1.9581, Accuracy: 0.3402  \n",
      "Epoch  1, CIFAR-10 Batch 3:  Cost: 1.8670, Accuracy: 0.3448  \n",
      "Epoch  1, CIFAR-10 Batch 4:  Cost: 1.6589, Accuracy: 0.3882  \n",
      "Epoch  1, CIFAR-10 Batch 5:  Cost: 1.6664, Accuracy: 0.4110  \n",
      "Epoch  2, CIFAR-10 Batch 1:  Cost: 1.6558, Accuracy: 0.4286  \n",
      "Epoch  2, CIFAR-10 Batch 2:  Cost: 1.5565, Accuracy: 0.4468  \n",
      "Epoch  2, CIFAR-10 Batch 3:  Cost: 1.3300, Accuracy: 0.4546  \n",
      "Epoch  2, CIFAR-10 Batch 4:  Cost: 1.3418, Accuracy: 0.4694  \n",
      "Epoch  2, CIFAR-10 Batch 5:  Cost: 1.4656, Accuracy: 0.4826  \n",
      "Epoch  3, CIFAR-10 Batch 1:  Cost: 1.4570, Accuracy: 0.4946  \n",
      "Epoch  3, CIFAR-10 Batch 2:  Cost: 1.3936, Accuracy: 0.5060  \n",
      "Epoch  3, CIFAR-10 Batch 3:  Cost: 1.2265, Accuracy: 0.4942  \n",
      "Epoch  3, CIFAR-10 Batch 4:  Cost: 1.2079, Accuracy: 0.5118  \n",
      "Epoch  3, CIFAR-10 Batch 5:  Cost: 1.3268, Accuracy: 0.5218  \n",
      "Epoch  4, CIFAR-10 Batch 1:  Cost: 1.3366, Accuracy: 0.5238  \n",
      "Epoch  4, CIFAR-10 Batch 2:  Cost: 1.2781, Accuracy: 0.5426  \n",
      "Epoch  4, CIFAR-10 Batch 3:  Cost: 1.1308, Accuracy: 0.5262  \n",
      "Epoch  4, CIFAR-10 Batch 4:  Cost: 1.1010, Accuracy: 0.5428  \n",
      "Epoch  4, CIFAR-10 Batch 5:  Cost: 1.2026, Accuracy: 0.5476  \n",
      "Epoch  5, CIFAR-10 Batch 1:  Cost: 1.2524, Accuracy: 0.5584  \n",
      "Epoch  5, CIFAR-10 Batch 2:  Cost: 1.2038, Accuracy: 0.5664  \n",
      "Epoch  5, CIFAR-10 Batch 3:  Cost: 1.0454, Accuracy: 0.5514  \n",
      "Epoch  5, CIFAR-10 Batch 4:  Cost: 1.0113, Accuracy: 0.5682  \n",
      "Epoch  5, CIFAR-10 Batch 5:  Cost: 1.1005, Accuracy: 0.5662  \n",
      "Epoch  6, CIFAR-10 Batch 1:  Cost: 1.1764, Accuracy: 0.5732  \n",
      "Epoch  6, CIFAR-10 Batch 2:  Cost: 1.1307, Accuracy: 0.5842  \n",
      "Epoch  6, CIFAR-10 Batch 3:  Cost: 0.9651, Accuracy: 0.5752  \n",
      "Epoch  6, CIFAR-10 Batch 4:  Cost: 0.9416, Accuracy: 0.5824  \n",
      "Epoch  6, CIFAR-10 Batch 5:  Cost: 1.0203, Accuracy: 0.5816  \n",
      "Epoch  7, CIFAR-10 Batch 1:  Cost: 1.0975, Accuracy: 0.5906  \n",
      "Epoch  7, CIFAR-10 Batch 2:  Cost: 1.0792, Accuracy: 0.5856  \n",
      "Epoch  7, CIFAR-10 Batch 3:  Cost: 0.9123, Accuracy: 0.5898  \n",
      "Epoch  7, CIFAR-10 Batch 4:  Cost: 0.8815, Accuracy: 0.6040  \n",
      "Epoch  7, CIFAR-10 Batch 5:  Cost: 0.9654, Accuracy: 0.5940  \n",
      "Epoch  8, CIFAR-10 Batch 1:  Cost: 1.0471, Accuracy: 0.5932  \n",
      "Epoch  8, CIFAR-10 Batch 2:  Cost: 1.0062, Accuracy: 0.6090  \n",
      "Epoch  8, CIFAR-10 Batch 3:  Cost: 0.8579, Accuracy: 0.6014  \n",
      "Epoch  8, CIFAR-10 Batch 4:  Cost: 0.8157, Accuracy: 0.6128  \n",
      "Epoch  8, CIFAR-10 Batch 5:  Cost: 0.9044, Accuracy: 0.6064  \n",
      "Epoch  9, CIFAR-10 Batch 1:  Cost: 0.9749, Accuracy: 0.6084  \n",
      "Epoch  9, CIFAR-10 Batch 2:  Cost: 0.9730, Accuracy: 0.6106  \n",
      "Epoch  9, CIFAR-10 Batch 3:  Cost: 0.8048, Accuracy: 0.6192  \n",
      "Epoch  9, CIFAR-10 Batch 4:  Cost: 0.7774, Accuracy: 0.6228  \n",
      "Epoch  9, CIFAR-10 Batch 5:  Cost: 0.8691, Accuracy: 0.6120  \n",
      "Epoch 10, CIFAR-10 Batch 1:  Cost: 0.9240, Accuracy: 0.6124  \n",
      "Epoch 10, CIFAR-10 Batch 2:  Cost: 0.9184, Accuracy: 0.6204  \n",
      "Epoch 10, CIFAR-10 Batch 3:  Cost: 0.7671, Accuracy: 0.6260  \n",
      "Epoch 10, CIFAR-10 Batch 4:  Cost: 0.7557, Accuracy: 0.6224  \n",
      "Epoch 10, CIFAR-10 Batch 5:  Cost: 0.8102, Accuracy: 0.6278  \n",
      "Epoch 11, CIFAR-10 Batch 1:  Cost: 0.8814, Accuracy: 0.6182  \n",
      "Epoch 11, CIFAR-10 Batch 2:  Cost: 0.8702, Accuracy: 0.6280  \n",
      "Epoch 11, CIFAR-10 Batch 3:  Cost: 0.7135, Accuracy: 0.6278  \n",
      "Epoch 11, CIFAR-10 Batch 4:  Cost: 0.7104, Accuracy: 0.6330  \n",
      "Epoch 11, CIFAR-10 Batch 5:  Cost: 0.7535, Accuracy: 0.6282  \n",
      "Epoch 12, CIFAR-10 Batch 1:  Cost: 0.8315, Accuracy: 0.6200  \n",
      "Epoch 12, CIFAR-10 Batch 2:  Cost: 0.8712, Accuracy: 0.6290  \n",
      "Epoch 12, CIFAR-10 Batch 3:  Cost: 0.6778, Accuracy: 0.6358  \n",
      "Epoch 12, CIFAR-10 Batch 4:  Cost: 0.6938, Accuracy: 0.6390  \n",
      "Epoch 12, CIFAR-10 Batch 5:  Cost: 0.7303, Accuracy: 0.6304  \n",
      "Epoch 13, CIFAR-10 Batch 1:  Cost: 0.7896, Accuracy: 0.6314  \n",
      "Epoch 13, CIFAR-10 Batch 2:  Cost: 0.7996, Accuracy: 0.6384  \n",
      "Epoch 13, CIFAR-10 Batch 3:  Cost: 0.6446, Accuracy: 0.6324  \n",
      "Epoch 13, CIFAR-10 Batch 4:  Cost: 0.6730, Accuracy: 0.6400  \n",
      "Epoch 13, CIFAR-10 Batch 5:  Cost: 0.6726, Accuracy: 0.6394  \n",
      "Epoch 14, CIFAR-10 Batch 1:  Cost: 0.7541, Accuracy: 0.6394  \n",
      "Epoch 14, CIFAR-10 Batch 2:  Cost: 0.7953, Accuracy: 0.6416  \n",
      "Epoch 14, CIFAR-10 Batch 3:  Cost: 0.6190, Accuracy: 0.6384  \n",
      "Epoch 14, CIFAR-10 Batch 4:  Cost: 0.6424, Accuracy: 0.6464  \n",
      "Epoch 14, CIFAR-10 Batch 5:  Cost: 0.6323, Accuracy: 0.6486  \n",
      "Epoch 15, CIFAR-10 Batch 1:  Cost: 0.7381, Accuracy: 0.6386  \n",
      "Epoch 15, CIFAR-10 Batch 2:  Cost: 0.7335, Accuracy: 0.6460  \n",
      "Epoch 15, CIFAR-10 Batch 3:  Cost: 0.5837, Accuracy: 0.6426  \n",
      "Epoch 15, CIFAR-10 Batch 4:  Cost: 0.6333, Accuracy: 0.6410  \n",
      "Epoch 15, CIFAR-10 Batch 5:  Cost: 0.6021, Accuracy: 0.6508  \n",
      "Epoch 16, CIFAR-10 Batch 1:  Cost: 0.6845, Accuracy: 0.6486  \n",
      "Epoch 16, CIFAR-10 Batch 2:  Cost: 0.6875, Accuracy: 0.6478  \n",
      "Epoch 16, CIFAR-10 Batch 3:  Cost: 0.5702, Accuracy: 0.6424  \n",
      "Epoch 16, CIFAR-10 Batch 4:  Cost: 0.5795, Accuracy: 0.6470  \n",
      "Epoch 16, CIFAR-10 Batch 5:  Cost: 0.5731, Accuracy: 0.6506  \n",
      "Epoch 17, CIFAR-10 Batch 1:  Cost: 0.6584, Accuracy: 0.6512  \n",
      "Epoch 17, CIFAR-10 Batch 2:  Cost: 0.6703, Accuracy: 0.6524  \n",
      "Epoch 17, CIFAR-10 Batch 3:  Cost: 0.5240, Accuracy: 0.6460  \n",
      "Epoch 17, CIFAR-10 Batch 4:  Cost: 0.5472, Accuracy: 0.6456  \n",
      "Epoch 17, CIFAR-10 Batch 5:  Cost: 0.5355, Accuracy: 0.6554  \n",
      "Epoch 18, CIFAR-10 Batch 1:  Cost: 0.6300, Accuracy: 0.6586  \n",
      "Epoch 18, CIFAR-10 Batch 2:  Cost: 0.6268, Accuracy: 0.6566  \n",
      "Epoch 18, CIFAR-10 Batch 3:  Cost: 0.5058, Accuracy: 0.6538  \n",
      "Epoch 18, CIFAR-10 Batch 4:  Cost: 0.5245, Accuracy: 0.6628  \n",
      "Epoch 18, CIFAR-10 Batch 5:  Cost: 0.5147, Accuracy: 0.6526  \n",
      "Epoch 19, CIFAR-10 Batch 1:  Cost: 0.6214, Accuracy: 0.6606  \n",
      "Epoch 19, CIFAR-10 Batch 2:  Cost: 0.6016, Accuracy: 0.6628  \n",
      "Epoch 19, CIFAR-10 Batch 3:  Cost: 0.4780, Accuracy: 0.6578  \n",
      "Epoch 19, CIFAR-10 Batch 4:  Cost: 0.5150, Accuracy: 0.6558  \n",
      "Epoch 19, CIFAR-10 Batch 5:  Cost: 0.5016, Accuracy: 0.6634  \n",
      "Epoch 20, CIFAR-10 Batch 1:  Cost: 0.6261, Accuracy: 0.6532  \n",
      "Epoch 20, CIFAR-10 Batch 2:  Cost: 0.5724, Accuracy: 0.6670  \n",
      "Epoch 20, CIFAR-10 Batch 3:  Cost: 0.4655, Accuracy: 0.6596  \n",
      "Epoch 20, CIFAR-10 Batch 4:  Cost: 0.5015, Accuracy: 0.6566  \n",
      "Epoch 20, CIFAR-10 Batch 5:  Cost: 0.4791, Accuracy: 0.6608  \n",
      "Epoch 21, CIFAR-10 Batch 1:  Cost: 0.5752, Accuracy: 0.6614  \n",
      "Epoch 21, CIFAR-10 Batch 2:  Cost: 0.5280, Accuracy: 0.6660  \n",
      "Epoch 21, CIFAR-10 Batch 3:  Cost: 0.4449, Accuracy: 0.6600  \n",
      "Epoch 21, CIFAR-10 Batch 4:  Cost: 0.4802, Accuracy: 0.6568  \n",
      "Epoch 21, CIFAR-10 Batch 5:  Cost: 0.4611, Accuracy: 0.6614  \n",
      "Epoch 22, CIFAR-10 Batch 1:  Cost: 0.5708, Accuracy: 0.6538  \n",
      "Epoch 22, CIFAR-10 Batch 2:  Cost: 0.5827, Accuracy: 0.6340  \n",
      "Epoch 22, CIFAR-10 Batch 3:  Cost: 0.4566, Accuracy: 0.6540  \n",
      "Epoch 22, CIFAR-10 Batch 4:  Cost: 0.4605, Accuracy: 0.6560  \n",
      "Epoch 22, CIFAR-10 Batch 5:  Cost: 0.4833, Accuracy: 0.6570  \n",
      "Epoch 23, CIFAR-10 Batch 1:  Cost: 0.5597, Accuracy: 0.6470  \n",
      "Epoch 23, CIFAR-10 Batch 2:  Cost: 0.5211, Accuracy: 0.6506  \n",
      "Epoch 23, CIFAR-10 Batch 3:  Cost: 0.4391, Accuracy: 0.6534  \n",
      "Epoch 23, CIFAR-10 Batch 4:  Cost: 0.4512, Accuracy: 0.6590  \n",
      "Epoch 23, CIFAR-10 Batch 5:  Cost: 0.4913, Accuracy: 0.6554  \n",
      "Epoch 24, CIFAR-10 Batch 1:  Cost: 0.5609, Accuracy: 0.6540  \n",
      "Epoch 24, CIFAR-10 Batch 2:  Cost: 0.4912, Accuracy: 0.6562  \n",
      "Epoch 24, CIFAR-10 Batch 3:  Cost: 0.4090, Accuracy: 0.6646  \n",
      "Epoch 24, CIFAR-10 Batch 4:  Cost: 0.4167, Accuracy: 0.6676  \n",
      "Epoch 24, CIFAR-10 Batch 5:  Cost: 0.4477, Accuracy: 0.6584  \n",
      "Epoch 25, CIFAR-10 Batch 1:  Cost: 0.5070, Accuracy: 0.6570  \n",
      "Epoch 25, CIFAR-10 Batch 2:  Cost: 0.4782, Accuracy: 0.6638  \n",
      "Epoch 25, CIFAR-10 Batch 3:  Cost: 0.4000, Accuracy: 0.6638  \n",
      "Epoch 25, CIFAR-10 Batch 4:  Cost: 0.4130, Accuracy: 0.6620  \n",
      "Epoch 25, CIFAR-10 Batch 5:  Cost: 0.4150, Accuracy: 0.6660  \n"
     ]
    }
   ],
   "source": [
    "\"\"\"\n",
    "DON'T MODIFY ANYTHING IN THIS CELL\n",
    "\"\"\"\n",
    "save_model_path = './image_classification'\n",
    "\n",
    "print('Training...')\n",
    "with tf.Session() as sess:\n",
    "    # Initializing the variables\n",
    "    sess.run(tf.global_variables_initializer())\n",
    "    \n",
    "    # Training cycle\n",
    "    for epoch in range(epochs):\n",
    "        # Loop over all batches\n",
    "        n_batches = 5\n",
    "        for batch_i in range(1, n_batches + 1):\n",
    "            for batch_features, batch_labels in helper.load_preprocess_training_batch(batch_i, batch_size):\n",
    "                train_neural_network(sess, optimizer, keep_probability, batch_features, batch_labels)\n",
    "            print('Epoch {:>2}, CIFAR-10 Batch {}:  '.format(epoch + 1, batch_i), end='')\n",
    "            print_stats(sess, batch_features, batch_labels, cost, accuracy)\n",
    "            \n",
    "    # Save Model\n",
    "    saver = tf.train.Saver()\n",
    "    save_path = saver.save(sess, save_model_path)"
   ]
  },
  {
   "cell_type": "markdown",
   "metadata": {
    "deletable": true,
    "editable": true
   },
   "source": [
    "# Checkpoint\n",
    "The model has been saved to disk.\n",
    "## Test Model\n",
    "Test your model against the test dataset.  This will be your final accuracy. You should have an accuracy greater than 50%. If you don't, keep tweaking the model architecture and parameters."
   ]
  },
  {
   "cell_type": "code",
   "execution_count": 19,
   "metadata": {
    "collapsed": false,
    "deletable": true,
    "editable": true
   },
   "outputs": [
    {
     "name": "stdout",
     "output_type": "stream",
     "text": [
      "Testing Accuracy: 0.6700425088405609\n",
      "\n"
     ]
    },
    {
     "data": {
      "image/png": "[encoded data removed]",
      "text/plain": [
       "<matplotlib.figure.Figure at 0x7f9ed6325c88>"
      ]
     },
     "metadata": {
      "image/png": {
       "height": 319,
       "width": 355
      }
     },
     "output_type": "display_data"
    }
   ],
   "source": [
    "\"\"\"\n",
    "DON'T MODIFY ANYTHING IN THIS CELL\n",
    "\"\"\"\n",
    "%matplotlib inline\n",
    "%config InlineBackend.figure_format = 'retina'\n",
    "\n",
    "import tensorflow as tf\n",
    "import pickle\n",
    "import helper\n",
    "import random\n",
    "\n",
    "# Set batch size if not already set\n",
    "try:\n",
    "    if batch_size:\n",
    "        pass\n",
    "except NameError:\n",
    "    batch_size = 64\n",
    "\n",
    "save_model_path = './image_classification'\n",
    "n_samples = 4\n",
    "top_n_predictions = 3\n",
    "\n",
    "def test_model():\n",
    "    \"\"\"\n",
    "    Test the saved model against the test dataset\n",
    "    \"\"\"\n",
    "\n",
    "    test_features, test_labels = pickle.load(open('preprocess_training.p', mode='rb'))\n",
    "    loaded_graph = tf.Graph()\n",
    "\n",
    "    with tf.Session(graph=loaded_graph) as sess:\n",
    "        # Load model\n",
    "        loader = tf.train.import_meta_graph(save_model_path + '.meta')\n",
    "        loader.restore(sess, save_model_path)\n",
    "\n",
    "        # Get Tensors from loaded model\n",
    "        loaded_x = loaded_graph.get_tensor_by_name('x:0')\n",
    "        loaded_y = loaded_graph.get_tensor_by_name('y:0')\n",
    "        loaded_keep_prob = loaded_graph.get_tensor_by_name('keep_prob:0')\n",
    "        loaded_logits = loaded_graph.get_tensor_by_name('logits:0')\n",
    "        loaded_acc = loaded_graph.get_tensor_by_name('accuracy:0')\n",
    "        \n",
    "        # Get accuracy in batches for memory limitations\n",
    "        test_batch_acc_total = 0\n",
    "        test_batch_count = 0\n",
    "        \n",
    "        for train_feature_batch, train_label_batch in helper.batch_features_labels(test_features, test_labels, batch_size):\n",
    "            test_batch_acc_total += sess.run(\n",
    "                loaded_acc,\n",
    "                feed_dict={loaded_x: train_feature_batch, loaded_y: train_label_batch, loaded_keep_prob: 1.0})\n",
    "            test_batch_count += 1\n",
    "\n",
    "        print('Testing Accuracy: {}\\n'.format(test_batch_acc_total/test_batch_count))\n",
    "\n",
    "        # Print Random Samples\n",
    "        random_test_features, random_test_labels = tuple(zip(*random.sample(list(zip(test_features, test_labels)), n_samples)))\n",
    "        random_test_predictions = sess.run(\n",
    "            tf.nn.top_k(tf.nn.softmax(loaded_logits), top_n_predictions),\n",
    "            feed_dict={loaded_x: random_test_features, loaded_y: random_test_labels, loaded_keep_prob: 1.0})\n",
    "        helper.display_image_predictions(random_test_features, random_test_labels, random_test_predictions)\n",
    "\n",
    "\n",
    "test_model()"
   ]
  },
  {
   "cell_type": "markdown",
   "metadata": {
    "deletable": true,
    "editable": true
   },
   "source": [
    "## Why 50-70% Accuracy?\n",
    "You might be wondering why you can't get an accuracy any higher. First things first, 50% isn't bad for a simple CNN.  Pure guessing would get you 10% accuracy. However, you might notice people are getting scores [well above 70%](http://rodrigob.github.io/are_we_there_yet/build/classification_datasets_results.html#43494641522d3130).  That's because we haven't taught you all there is to know about neural networks. We still need to cover a few more techniques.\n",
    "## Submitting This Project\n",
    "When submitting this project, make sure to run all the cells before saving the notebook.  Save the notebook file as \"dlnd_image_classification.ipynb\" and save it as a HTML file under \"File\" -> \"Download as\".  Include the \"helper.py\" and \"problem_unittests.py\" files in your submission."
   ]
  }
 ],
 "metadata": {
  "kernelspec": {
   "display_name": "Python 3",
   "language": "python",
   "name": "python3"
  },
  "language_info": {
   "codemirror_mode": {
    "name": "ipython",
    "version": 3
   },
   "file_extension": ".py",
   "mimetype": "text/x-python",
   "name": "python",
   "nbconvert_exporter": "python",
   "pygments_lexer": "ipython3",
   "version": "3.5.3"
  }
 },
 "nbformat": 4,
 "nbformat_minor": 0
}
